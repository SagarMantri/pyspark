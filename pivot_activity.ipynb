{
 "cells": [
  {
   "cell_type": "code",
   "execution_count": 1,
   "id": "5577bc92",
   "metadata": {},
   "outputs": [],
   "source": [
    "import findspark\n",
    "findspark.init()"
   ]
  },
  {
   "cell_type": "code",
   "execution_count": 7,
   "id": "bc2deade",
   "metadata": {},
   "outputs": [],
   "source": [
    "from pyspark.sql import SparkSession\n",
    "spark=SparkSession.builder.master('local').appName('Transpose').getOrCreate()\n",
    "sc=spark.sparkContext"
   ]
  },
  {
   "cell_type": "code",
   "execution_count": 15,
   "id": "279ec46d",
   "metadata": {},
   "outputs": [],
   "source": [
    "df=spark.read.format('csv').option('header',True).option('inferschema','True').load('students.csv')"
   ]
  },
  {
   "cell_type": "code",
   "execution_count": 11,
   "id": "290816f5",
   "metadata": {},
   "outputs": [
    {
     "name": "stdout",
     "output_type": "stream",
     "text": [
      "+-------+-------+-----+\n",
      "|Roll_no|Subject|marks|\n",
      "+-------+-------+-----+\n",
      "|    101|English|   70|\n",
      "|    102|  Maths|   80|\n",
      "|    101|  Maths|   80|\n",
      "|    102|English|   70|\n",
      "|    103|  Maths|   50|\n",
      "|    103|English|   50|\n",
      "|    104|  Maths|   50|\n",
      "|    104|English|   50|\n",
      "+-------+-------+-----+\n",
      "\n"
     ]
    }
   ],
   "source": [
    "df.show()"
   ]
  },
  {
   "cell_type": "code",
   "execution_count": 16,
   "id": "447d3c65",
   "metadata": {},
   "outputs": [
    {
     "name": "stdout",
     "output_type": "stream",
     "text": [
      "root\n",
      " |-- Roll_no: integer (nullable = true)\n",
      " |-- Subject: string (nullable = true)\n",
      " |-- marks: integer (nullable = true)\n",
      "\n"
     ]
    }
   ],
   "source": [
    "df.printSchema()"
   ]
  },
  {
   "cell_type": "code",
   "execution_count": 19,
   "id": "ed415c90",
   "metadata": {},
   "outputs": [],
   "source": [
    "tbl=df.groupby('Roll_no').pivot('Subject').sum('marks')"
   ]
  },
  {
   "cell_type": "code",
   "execution_count": 20,
   "id": "53392585",
   "metadata": {},
   "outputs": [
    {
     "name": "stdout",
     "output_type": "stream",
     "text": [
      "+-------+-------+-----+\n",
      "|Roll_no|English|Maths|\n",
      "+-------+-------+-----+\n",
      "|    101|     70|   80|\n",
      "|    103|     50|   50|\n",
      "|    102|     70|   80|\n",
      "|    104|     50|   50|\n",
      "+-------+-------+-----+\n",
      "\n"
     ]
    }
   ],
   "source": [
    "tbl.show()"
   ]
  },
  {
   "cell_type": "code",
   "execution_count": 22,
   "id": "fc5a0061",
   "metadata": {},
   "outputs": [],
   "source": [
    "tbl2=tbl.withColumn(\"total\",tbl['English']+tbl['Maths'])"
   ]
  },
  {
   "cell_type": "code",
   "execution_count": 24,
   "id": "1efa20c7",
   "metadata": {},
   "outputs": [
    {
     "name": "stdout",
     "output_type": "stream",
     "text": [
      "+-------+-------+-----+-----+\n",
      "|Roll_no|English|Maths|total|\n",
      "+-------+-------+-----+-----+\n",
      "|    101|     70|   80|  150|\n",
      "|    103|     50|   50|  100|\n",
      "|    102|     70|   80|  150|\n",
      "|    104|     50|   50|  100|\n",
      "+-------+-------+-----+-----+\n",
      "\n"
     ]
    }
   ],
   "source": [
    "tbl2.show()"
   ]
  }
 ],
 "metadata": {
  "kernelspec": {
   "display_name": "Python 3 (ipykernel)",
   "language": "python",
   "name": "python3"
  },
  "language_info": {
   "codemirror_mode": {
    "name": "ipython",
    "version": 3
   },
   "file_extension": ".py",
   "mimetype": "text/x-python",
   "name": "python",
   "nbconvert_exporter": "python",
   "pygments_lexer": "ipython3",
   "version": "3.10.4"
  }
 },
 "nbformat": 4,
 "nbformat_minor": 5
}
