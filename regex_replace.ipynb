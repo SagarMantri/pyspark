{
 "cells": [
  {
   "cell_type": "code",
   "execution_count": 1,
   "id": "2f8bcb98",
   "metadata": {},
   "outputs": [],
   "source": [
    "import findspark\n",
    "findspark.init()"
   ]
  },
  {
   "cell_type": "code",
   "execution_count": 3,
   "id": "88629948",
   "metadata": {},
   "outputs": [],
   "source": [
    "from pyspark.sql import SparkSession\n",
    "spark=SparkSession.builder.master('local').appName('replace_regex').getOrCreate()\n",
    "sc= spark.sparkContext"
   ]
  },
  {
   "cell_type": "code",
   "execution_count": 5,
   "id": "be45e1f9",
   "metadata": {},
   "outputs": [],
   "source": [
    "df=spark.read.format('csv').load('share.csv')"
   ]
  },
  {
   "cell_type": "code",
   "execution_count": 6,
   "id": "e99d3f31",
   "metadata": {},
   "outputs": [
    {
     "name": "stdout",
     "output_type": "stream",
     "text": [
      "+--------------------+\n",
      "|                 _c0|\n",
      "+--------------------+\n",
      "|BBL|Y|OFSS|N|ALIC...|\n",
      "+--------------------+\n",
      "\n"
     ]
    }
   ],
   "source": [
    "df.show()"
   ]
  },
  {
   "cell_type": "code",
   "execution_count": 12,
   "id": "474bf83c",
   "metadata": {},
   "outputs": [],
   "source": [
    "from pyspark.sql.functions import regexp_replace,split,explode"
   ]
  },
  {
   "cell_type": "code",
   "execution_count": 22,
   "id": "9c1bb077",
   "metadata": {},
   "outputs": [],
   "source": [
    "df1=df.withColumn(\"chk\",regexp_replace(\"_c0\",\"(.*?\\\\|){2}\",\"$0-\"))"
   ]
  },
  {
   "cell_type": "code",
   "execution_count": 23,
   "id": "097202df",
   "metadata": {},
   "outputs": [
    {
     "name": "stdout",
     "output_type": "stream",
     "text": [
      "+--------------------+\n",
      "|                 chk|\n",
      "+--------------------+\n",
      "|BBL|Y|-OFSS|N|-AL...|\n",
      "+--------------------+\n",
      "\n"
     ]
    }
   ],
   "source": [
    "df1.select('chk').show()"
   ]
  },
  {
   "cell_type": "code",
   "execution_count": 24,
   "id": "6e6bdd50",
   "metadata": {},
   "outputs": [],
   "source": [
    "from pyspark.sql.functions import regexp_replace,split,explode"
   ]
  },
  {
   "cell_type": "code",
   "execution_count": 27,
   "id": "005e1370",
   "metadata": {},
   "outputs": [],
   "source": [
    "df2=df1.withColumn('Col_explode',explode(split('chk','\\|-'))).select('Col_explode')"
   ]
  },
  {
   "cell_type": "code",
   "execution_count": 28,
   "id": "6d1f8773",
   "metadata": {},
   "outputs": [
    {
     "name": "stdout",
     "output_type": "stream",
     "text": [
      "+-----------+\n",
      "|Col_explode|\n",
      "+-----------+\n",
      "|      BBL|Y|\n",
      "|     OFSS|N|\n",
      "|   ALICON|N|\n",
      "+-----------+\n",
      "\n"
     ]
    }
   ],
   "source": [
    "df2.show()"
   ]
  }
 ],
 "metadata": {
  "kernelspec": {
   "display_name": "Python 3 (ipykernel)",
   "language": "python",
   "name": "python3"
  },
  "language_info": {
   "codemirror_mode": {
    "name": "ipython",
    "version": 3
   },
   "file_extension": ".py",
   "mimetype": "text/x-python",
   "name": "python",
   "nbconvert_exporter": "python",
   "pygments_lexer": "ipython3",
   "version": "3.10.4"
  }
 },
 "nbformat": 4,
 "nbformat_minor": 5
}
